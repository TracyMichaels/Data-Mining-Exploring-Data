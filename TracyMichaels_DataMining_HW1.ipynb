{
 "cells": [
  {
   "cell_type": "markdown",
   "id": "79f50e0c",
   "metadata": {},
   "source": [
    "# Tracy Michaels - Assignment 1"
   ]
  },
  {
   "cell_type": "code",
   "execution_count": 1,
   "id": "448a9947",
   "metadata": {},
   "outputs": [],
   "source": [
    "import pandas as pd\n",
    "import numpy as np\n",
    "import matplotlib.pyplot as plt\n",
    "from IPython.display import display\n",
    "from scipy import stats\n",
    "from scipy.spatial.distance import euclidean\n",
    "from sklearn.preprocessing import minmax_scale"
   ]
  },
  {
   "attachments": {
    "BestBuyCustomerData.png": {
     "image/png": "[encoded data removed]"
    }
   },
   "cell_type": "markdown",
   "id": "ff3c18b0",
   "metadata": {},
   "source": [
    "***\n",
    "# Question 1:\n",
    "#### Calculating the mean, median, and mode of a given data set\n",
    "***\n",
    "> __Mean__ - the average of a data set; calculated by summing the all the values together dividing by the total number of values in the data set  \n",
    "> __Median__ - The middle value of a data set  \n",
    "> __Mode__ - Most common value represented in a data set  \n",
    "\n",
    "__Given Data Set:__ BestBuy customer data table  \n",
    "![BestBuyCustomerData.png](attachment:BestBuyCustomerData.png)\n",
    "\n"
   ]
  },
  {
   "cell_type": "code",
   "execution_count": 2,
   "id": "3fb4f398",
   "metadata": {},
   "outputs": [
    {
     "data": {
      "text/html": [
       "<div>\n",
       "<style scoped>\n",
       "    .dataframe tbody tr th:only-of-type {\n",
       "        vertical-align: middle;\n",
       "    }\n",
       "\n",
       "    .dataframe tbody tr th {\n",
       "        vertical-align: top;\n",
       "    }\n",
       "\n",
       "    .dataframe thead th {\n",
       "        text-align: right;\n",
       "    }\n",
       "</style>\n",
       "<table border=\"1\" class=\"dataframe\">\n",
       "  <thead>\n",
       "    <tr style=\"text-align: right;\">\n",
       "      <th></th>\n",
       "      <th>Customer</th>\n",
       "      <th>Age</th>\n",
       "    </tr>\n",
       "  </thead>\n",
       "  <tbody>\n",
       "    <tr>\n",
       "      <th>0</th>\n",
       "      <td>David</td>\n",
       "      <td>46</td>\n",
       "    </tr>\n",
       "    <tr>\n",
       "      <th>1</th>\n",
       "      <td>Lisa</td>\n",
       "      <td>25</td>\n",
       "    </tr>\n",
       "    <tr>\n",
       "      <th>2</th>\n",
       "      <td>Michael</td>\n",
       "      <td>27</td>\n",
       "    </tr>\n",
       "    <tr>\n",
       "      <th>3</th>\n",
       "      <td>Susan</td>\n",
       "      <td>27</td>\n",
       "    </tr>\n",
       "    <tr>\n",
       "      <th>4</th>\n",
       "      <td>William</td>\n",
       "      <td>28</td>\n",
       "    </tr>\n",
       "    <tr>\n",
       "      <th>5</th>\n",
       "      <td>Mat</td>\n",
       "      <td>36</td>\n",
       "    </tr>\n",
       "    <tr>\n",
       "      <th>6</th>\n",
       "      <td>James</td>\n",
       "      <td>53</td>\n",
       "    </tr>\n",
       "    <tr>\n",
       "      <th>7</th>\n",
       "      <td>Kevin</td>\n",
       "      <td>27</td>\n",
       "    </tr>\n",
       "    <tr>\n",
       "      <th>8</th>\n",
       "      <td>Paul</td>\n",
       "      <td>18</td>\n",
       "    </tr>\n",
       "    <tr>\n",
       "      <th>9</th>\n",
       "      <td>Anthony</td>\n",
       "      <td>25</td>\n",
       "    </tr>\n",
       "  </tbody>\n",
       "</table>\n",
       "</div>"
      ],
      "text/plain": [
       "  Customer  Age\n",
       "0    David   46\n",
       "1     Lisa   25\n",
       "2  Michael   27\n",
       "3    Susan   27\n",
       "4  William   28\n",
       "5      Mat   36\n",
       "6    James   53\n",
       "7    Kevin   27\n",
       "8     Paul   18\n",
       "9  Anthony   25"
      ]
     },
     "metadata": {},
     "output_type": "display_data"
    },
    {
     "name": "stdout",
     "output_type": "stream",
     "text": [
      "mean: 31.2\n",
      "median: 27.0\n",
      "mode: 27\n"
     ]
    }
   ],
   "source": [
    "# create dataframe from table data\n",
    "cust_data = {'Customer': ['David', 'Lisa', 'Michael', 'Susan', 'William', 'Mat', 'James', 'Kevin', 'Paul', 'Anthony'],\\\n",
    "        'Age': [46, 25, 27, 27, 28, 36, 53, 27, 18, 25]}\n",
    "cust_df = pd.DataFrame(data=cust_data)\n",
    "#display data frame\n",
    "display(cust_df)\n",
    "\n",
    "# feature to calculate values on\n",
    "feat = cust_df['Age'].to_numpy()\n",
    "\n",
    "# calculating the mean\n",
    "# (sum of all ages)/number of ages\n",
    "print('mean: ' + str(np.mean(feat)))\n",
    "\n",
    "# calculating the median\n",
    "# value that is in the middle of the data set\n",
    "print('median: ' + str(np.median(feat)))\n",
    "\n",
    "# calculating the mode\n",
    "# value that appears most frequently\n",
    "print('mode: ' + str(stats.mode(cust_df['Age'])[0][0]))"
   ]
  },
  {
   "attachments": {
    "AtlantaClimateData.png": {
     "image/png": "[encoded data removed]"
    }
   },
   "cell_type": "markdown",
   "id": "d782f485",
   "metadata": {},
   "source": [
    "***\n",
    "# Question 2:\n",
    "#### Computing the five-number summary, identifying outliers, and visualising a given data set\n",
    "***\n",
    "\n",
    "__Given data set:__ Climate Data for Atlanta\n",
    "![AtlantaClimateData.png](attachment:AtlantaClimateData.png)\n",
    "\n",
    "***\n",
    "__Five-Number Summary:__\n",
    "> __Minimum__ - this is the minimum value of a data set  \n",
    "> __Q1 - First Quartile__ - this is the value that is at the 25% mark of a data set  \n",
    "> __Median__ - The middle value of a data set  \n",
    "> __Q3 - Third Quartile__ - this is the value that is at the 75% mark of a data set  \n",
    "> __Maximum__ - this is the largest value of a data set  \n",
    "***\n",
    "\n",
    "__Finding Outliers:__ Q1 - (1.5 * IQR), Q3 + (1.5 * IQR)\n",
    "> To find any existing outliers, find the interquartile range (IQR) by subtracting Q3 from Q1.  This quantity is then multiplied by 1.5, which is then subtracted from Q1 and added to Q3.  If there are values that fall outside of this new range then they are to be considered an outlier.\n",
    "***\n",
    "\n"
   ]
  },
  {
   "cell_type": "markdown",
   "id": "b5f7e59b",
   "metadata": {},
   "source": [
    "__2.1) Computing the five-number summary:__"
   ]
  },
  {
   "cell_type": "code",
   "execution_count": 3,
   "id": "340fb938",
   "metadata": {},
   "outputs": [
    {
     "data": {
      "text/html": [
       "<div>\n",
       "<style scoped>\n",
       "    .dataframe tbody tr th:only-of-type {\n",
       "        vertical-align: middle;\n",
       "    }\n",
       "\n",
       "    .dataframe tbody tr th {\n",
       "        vertical-align: top;\n",
       "    }\n",
       "\n",
       "    .dataframe thead th {\n",
       "        text-align: right;\n",
       "    }\n",
       "</style>\n",
       "<table border=\"1\" class=\"dataframe\">\n",
       "  <thead>\n",
       "    <tr style=\"text-align: right;\">\n",
       "      <th></th>\n",
       "      <th>Month</th>\n",
       "      <th>Temp</th>\n",
       "    </tr>\n",
       "  </thead>\n",
       "  <tbody>\n",
       "    <tr>\n",
       "      <th>0</th>\n",
       "      <td>Jan</td>\n",
       "      <td>52.3</td>\n",
       "    </tr>\n",
       "    <tr>\n",
       "      <th>1</th>\n",
       "      <td>Feb</td>\n",
       "      <td>56.6</td>\n",
       "    </tr>\n",
       "    <tr>\n",
       "      <th>2</th>\n",
       "      <td>Mar</td>\n",
       "      <td>64.6</td>\n",
       "    </tr>\n",
       "    <tr>\n",
       "      <th>3</th>\n",
       "      <td>Apr</td>\n",
       "      <td>72.5</td>\n",
       "    </tr>\n",
       "    <tr>\n",
       "      <th>4</th>\n",
       "      <td>May</td>\n",
       "      <td>79.9</td>\n",
       "    </tr>\n",
       "    <tr>\n",
       "      <th>5</th>\n",
       "      <td>Jun</td>\n",
       "      <td>86.4</td>\n",
       "    </tr>\n",
       "    <tr>\n",
       "      <th>6</th>\n",
       "      <td>Jul</td>\n",
       "      <td>89.1</td>\n",
       "    </tr>\n",
       "    <tr>\n",
       "      <th>7</th>\n",
       "      <td>Aug</td>\n",
       "      <td>88.1</td>\n",
       "    </tr>\n",
       "    <tr>\n",
       "      <th>8</th>\n",
       "      <td>Sept</td>\n",
       "      <td>82.2</td>\n",
       "    </tr>\n",
       "    <tr>\n",
       "      <th>9</th>\n",
       "      <td>Oct</td>\n",
       "      <td>72.7</td>\n",
       "    </tr>\n",
       "    <tr>\n",
       "      <th>10</th>\n",
       "      <td>Nov</td>\n",
       "      <td>63.6</td>\n",
       "    </tr>\n",
       "    <tr>\n",
       "      <th>11</th>\n",
       "      <td>Dec</td>\n",
       "      <td>54.0</td>\n",
       "    </tr>\n",
       "  </tbody>\n",
       "</table>\n",
       "</div>"
      ],
      "text/plain": [
       "   Month  Temp\n",
       "0    Jan  52.3\n",
       "1    Feb  56.6\n",
       "2    Mar  64.6\n",
       "3    Apr  72.5\n",
       "4    May  79.9\n",
       "5    Jun  86.4\n",
       "6    Jul  89.1\n",
       "7    Aug  88.1\n",
       "8   Sept  82.2\n",
       "9    Oct  72.7\n",
       "10   Nov  63.6\n",
       "11   Dec  54.0"
      ]
     },
     "metadata": {},
     "output_type": "display_data"
    },
    {
     "name": "stdout",
     "output_type": "stream",
     "text": [
      "Five-number summary:\n",
      "Minimum: 52.3\n",
      "Q1: 60.1\n",
      "Median: 72.6\n",
      "Q3: 84.30000000000001\n",
      "Maximum: 89.1\n",
      "\n",
      "IQR: 24.20000000000001\n",
      "Outliers: \n"
     ]
    }
   ],
   "source": [
    "# create DataFrame of given values\n",
    "temp_data = {'Month': ['Jan', 'Feb', 'Mar', 'Apr', 'May', 'Jun', 'Jul', 'Aug', 'Sept', 'Oct', 'Nov', 'Dec'],\\\n",
    "             'Temp': [52.3, 56.6, 64.6, 72.5, 79.9, 86.4, 89.1, 88.1, 82.2, 72.7, 63.6, 54.0]}\n",
    "temp_df = pd.DataFrame(data=temp_data)\n",
    "#display data frame\n",
    "display(temp_df)\n",
    "\n",
    "# calculate quartiles\n",
    "quarts = np.percentile(temp_df['Temp'].to_numpy(), [25, 50, 75], interpolation='midpoint')\n",
    "\n",
    "# calculate minimum and maximum\n",
    "temp_min = temp_df['Temp'].min()\n",
    "temp_max = temp_df['Temp'].max()\n",
    "\n",
    "# display five-number summary\n",
    "print('Five-number summary:')\n",
    "print('Minimum: ' + str(temp_min))\n",
    "print('Q1: ' + str(quarts[0]))\n",
    "print('Median: ' + str(quarts[1]))\n",
    "print('Q3: ' + str(quarts[2]))\n",
    "print('Maximum: ' + str(temp_max))\n",
    "print()\n",
    "\n",
    "# calculating IQR\n",
    "iqr = quarts[2] - quarts[0]\n",
    "print('IQR: ' + str(iqr))\n",
    "\n",
    "# determining outliers\n",
    "iqr_e = 1.5 * iqr\n",
    "out_min = quarts[0] - iqr_e\n",
    "out_max = quarts[2] + iqr_e\n",
    "print('Outliers: ')\n",
    "for i in temp_df['Temp']:\n",
    "    if(out_min > i or i > out_max):\n",
    "        display(temp_df.loc[temp_df['Temp'] == i])\n",
    "    "
   ]
  },
  {
   "cell_type": "markdown",
   "id": "bb95a249",
   "metadata": {},
   "source": [
    "***\n",
    "__2.2) Determining if there are outliers:__\n",
    "> As there were no outputs from the above determining outliers function there are no outliers, this can be confirmed as there are no values in the dataset that fall out side the range \\[(Q1 - 1.5 * IQR), (Q3 + 1.5 * IQR)\\]\n",
    "***"
   ]
  },
  {
   "cell_type": "markdown",
   "id": "879cdde2",
   "metadata": {},
   "source": [
    "__2.3) Visualizing Data:__"
   ]
  },
  {
   "cell_type": "code",
   "execution_count": 4,
   "id": "5583b9b6",
   "metadata": {},
   "outputs": [
    {
     "data": {
      "image/png": "[encoded data removed]",
      "text/plain": [
       "<Figure size 432x288 with 1 Axes>"
      ]
     },
     "metadata": {
      "needs_background": "light"
     },
     "output_type": "display_data"
    }
   ],
   "source": [
    "# displaying plot of data set\n",
    "ax = plt.gca()\n",
    "temp_df.plot(kind='line', x='Month', y='Temp', ax=ax, marker='.')\n",
    "plt.xticks([x for x in range(len(temp_df['Month']))], temp_df['Month'].tolist(), rotation=45)\n",
    "plt.show()"
   ]
  },
  {
   "cell_type": "markdown",
   "id": "fbaff1e3",
   "metadata": {},
   "source": [
    "***\n",
    "> Based on this visualization, it is clear to see that the temperature is higher in the middle months\n",
    "***"
   ]
  },
  {
   "attachments": {
    "Q3.png": {
     "image/png": "[encoded data removed]"
    }
   },
   "cell_type": "markdown",
   "id": "8d97bac4",
   "metadata": {},
   "source": [
    "# Question 3:\n",
    "***\n",
    "#### Given the following table of customer information\n",
    "![Q3.png](attachment:Q3.png)\n",
    "\n",
    "__3.1) Types of attibutes in chart:__  \n",
    "> - Profession - Categorical - Nominal  \n",
    "> - Education - Categorical - Ordinal  \n",
    "> - Hobbies - Categorical - Nominal\n",
    "\n",
    "__3.2) Computing the similarity values between \"David\" and \"Susan\":__  \n",
    "> - using Simple matching:\n",
    "> - To calculate the similarity the number of attibutes that both customers have in common will be divided by the total number of attibutes.  \n",
    "> - in this case David and Susan both have the same profession and education, while their hobbies differ  \n",
    "> - therefore their similarity is said to be 2/3  \n",
    "\n",
    "__3.3) Computing the similarity values between \"Susan\" and \"Lisa\":__  \n",
    "> - using the same method as in 3.2, Susan and Lisa have the same Hobbies, but their Profession and Education differ\n",
    "> - therefore their similarity is said to be 1/3\n",
    "***\n"
   ]
  },
  {
   "attachments": {
    "Q4.png": {
     "image/png": "[encoded data removed]"
    }
   },
   "cell_type": "markdown",
   "id": "cbccdc71",
   "metadata": {},
   "source": [
    "# Question 4:\n",
    "***\n",
    "#### Given the following table of patient information:\n",
    "![Q4.png](attachment:Q4.png) \n",
    "\n",
    "__4.1) Types of attributes in table:__  \n",
    "> - All attributes are binary  \n",
    "\n",
    "__4.2) Computing the similarity values between \"Tom\" and \"Mat\"__\n",
    "> - Using Jaccard: to compute the similarity, the attributes which are mutually absent are discarded and all others are given equal weight for matches and non-matches  \n",
    "> - in the case of Tom and Mat they have 0 mutual absences, 4 matches, and 4 non-matches  \n",
    "> - using the formula (matches)/(non-matches + matches) = 4/8 = 1/2  \n",
    "> - therefore Tom and Mat have a similarity of 1/2\n",
    "\n",
    "__4.3) Computing the similarity values between \"Mat\" and \"Lucy\"__\n",
    "> - using the above method:\n",
    "> - 1 mutual absences, 3 matches, 4 non-matches\n",
    "> - discarding the mutual absence, (3 matches)/(4 non-matches + 3 matches) = 3/7\n",
    "> - Therefore Mat and Lucy have a similarity of 3/7\n",
    "\n"
   ]
  },
  {
   "attachments": {
    "Q5.png": {
     "image/png": "[encoded data removed]"
    }
   },
   "cell_type": "markdown",
   "id": "d044b7f4",
   "metadata": {},
   "source": [
    "# Question 5:\n",
    "***\n",
    "#### Given the following table of Fisher's iris data:\n",
    "![Q5.png](attachment:Q5.png)"
   ]
  },
  {
   "cell_type": "code",
   "execution_count": 5,
   "id": "576bcb69",
   "metadata": {},
   "outputs": [
    {
     "data": {
      "text/html": [
       "<div>\n",
       "<style scoped>\n",
       "    .dataframe tbody tr th:only-of-type {\n",
       "        vertical-align: middle;\n",
       "    }\n",
       "\n",
       "    .dataframe tbody tr th {\n",
       "        vertical-align: top;\n",
       "    }\n",
       "\n",
       "    .dataframe thead th {\n",
       "        text-align: right;\n",
       "    }\n",
       "</style>\n",
       "<table border=\"1\" class=\"dataframe\">\n",
       "  <thead>\n",
       "    <tr style=\"text-align: right;\">\n",
       "      <th></th>\n",
       "      <th>Sepal Length</th>\n",
       "      <th>Sepal Width</th>\n",
       "      <th>Petal Length</th>\n",
       "      <th>Petal Width</th>\n",
       "    </tr>\n",
       "    <tr>\n",
       "      <th>Flower</th>\n",
       "      <th></th>\n",
       "      <th></th>\n",
       "      <th></th>\n",
       "      <th></th>\n",
       "    </tr>\n",
       "  </thead>\n",
       "  <tbody>\n",
       "    <tr>\n",
       "      <th>A</th>\n",
       "      <td>5.1</td>\n",
       "      <td>3.5</td>\n",
       "      <td>3.5</td>\n",
       "      <td>3.5</td>\n",
       "    </tr>\n",
       "    <tr>\n",
       "      <th>B</th>\n",
       "      <td>7.0</td>\n",
       "      <td>3.2</td>\n",
       "      <td>3.2</td>\n",
       "      <td>3.2</td>\n",
       "    </tr>\n",
       "    <tr>\n",
       "      <th>C</th>\n",
       "      <td>4.8</td>\n",
       "      <td>3.4</td>\n",
       "      <td>3.4</td>\n",
       "      <td>3.4</td>\n",
       "    </tr>\n",
       "  </tbody>\n",
       "</table>\n",
       "</div>"
      ],
      "text/plain": [
       "        Sepal Length  Sepal Width  Petal Length  Petal Width\n",
       "Flower                                                      \n",
       "A                5.1          3.5           3.5          3.5\n",
       "B                7.0          3.2           3.2          3.2\n",
       "C                4.8          3.4           3.4          3.4"
      ]
     },
     "metadata": {},
     "output_type": "display_data"
    }
   ],
   "source": [
    "# turn table into dataframe\n",
    "iris_data = {'Flower': ['A', 'B', 'C',],\\\n",
    "             'Sepal Length': [5.1, 7.0, 4.8],\\\n",
    "             'Sepal Width': [3.5, 3.2, 3.4],\\\n",
    "             'Petal Length': [3.5, 3.2, 3.4],\\\n",
    "             'Petal Width': [3.5, 3.2, 3.4]}\n",
    "\n",
    "iris_df = pd.DataFrame(data=iris_data)\n",
    "iris_df.set_index('Flower', inplace=True)\n",
    "display(iris_df)"
   ]
  },
  {
   "cell_type": "markdown",
   "id": "5d97a65b",
   "metadata": {},
   "source": [
    "__5.1) Types of attributes in table:__  \n",
    "> - Attributes are numeric type\n",
    "\n",
    "__5.2) Type of similarity measure chosen:__  \n",
    "> - Euclidean distance = $\\sqrt{(x_{i,1}-x_{j,1})^{2}+(x_{i,2}-x_{j,2})^{2}+...+(x_{i,p}-x_{j,p})^{2}}$  \n",
    "\n",
    "__5.3) Computing the similarity values between \"A\" and \"B\":__\n",
    "\n"
   ]
  },
  {
   "cell_type": "code",
   "execution_count": 6,
   "id": "13922082",
   "metadata": {},
   "outputs": [
    {
     "name": "stdout",
     "output_type": "stream",
     "text": [
      "Euclidean distance = 1.9697715603592212\n"
     ]
    }
   ],
   "source": [
    "A = iris_df.loc['A'].to_numpy()\n",
    "B = iris_df.loc['B'].to_numpy()\n",
    "print(f'Euclidean distance = {euclidean(A, B)}')"
   ]
  },
  {
   "cell_type": "markdown",
   "id": "ca3ddcb6",
   "metadata": {},
   "source": [
    "__5.4) Computing the similarity values between \"B\" and \"C\":__\n"
   ]
  },
  {
   "cell_type": "code",
   "execution_count": 7,
   "id": "d86565ab",
   "metadata": {},
   "outputs": [
    {
     "name": "stdout",
     "output_type": "stream",
     "text": [
      "Euclidean distance = 2.227105745132009\n"
     ]
    }
   ],
   "source": [
    "B = iris_df.loc['B'].to_numpy()\n",
    "C = iris_df.loc['C'].to_numpy()\n",
    "print(f'Euclidean distance = {euclidean(B, C)}')"
   ]
  },
  {
   "cell_type": "markdown",
   "id": "b902c554",
   "metadata": {},
   "source": [
    "***"
   ]
  },
  {
   "attachments": {
    "Q6.png": {
     "image/png": "[encoded data removed]"
    }
   },
   "cell_type": "markdown",
   "id": "9aa5376c",
   "metadata": {},
   "source": [
    "# Question 6:\n",
    "***\n",
    "#### Given the following table of Customer information data and ranking options:\n",
    "![Q6.png](attachment:Q6.png)\n",
    "\n",
    "__6.1) Tpyes of attributes in table:__\n",
    "> - Ordinal     \n",
    "\n",
    "__6.2) Compute the similarity values between \"Kevin\" and \"John\":__\n",
    "> - First finding the numeric ranks of each attribute using the following formula:  \n",
    "\n",
    "\n"
   ]
  },
  {
   "attachments": {
    "Q6_1.png": {
     "image/png": "[encoded data removed]"
    }
   },
   "cell_type": "markdown",
   "id": "50cb7eb4",
   "metadata": {},
   "source": [
    "> ![Q6_1.png](attachment:Q6_1.png)"
   ]
  },
  {
   "cell_type": "markdown",
   "id": "b4b9301c",
   "metadata": {},
   "source": [
    "> __Credit Score__ = \\[1, 0.75, 0.50, 0.25, 0\\]   \n",
    "> __Salary Range__ = \\[1, 0.67, 0.33, 0\\]  \n",
    "> __Age__          = \\[1, 0.50, 0\\]  \n",
    "\n",
    "> - mapping new values to customer table (will use a DataFrame for this):"
   ]
  },
  {
   "cell_type": "code",
   "execution_count": 8,
   "id": "df834edc",
   "metadata": {},
   "outputs": [
    {
     "data": {
      "text/html": [
       "<div>\n",
       "<style scoped>\n",
       "    .dataframe tbody tr th:only-of-type {\n",
       "        vertical-align: middle;\n",
       "    }\n",
       "\n",
       "    .dataframe tbody tr th {\n",
       "        vertical-align: top;\n",
       "    }\n",
       "\n",
       "    .dataframe thead th {\n",
       "        text-align: right;\n",
       "    }\n",
       "</style>\n",
       "<table border=\"1\" class=\"dataframe\">\n",
       "  <thead>\n",
       "    <tr style=\"text-align: right;\">\n",
       "      <th></th>\n",
       "      <th>Credit Score Range</th>\n",
       "      <th>Salary Range</th>\n",
       "      <th>Age</th>\n",
       "    </tr>\n",
       "    <tr>\n",
       "      <th>Customer</th>\n",
       "      <th></th>\n",
       "      <th></th>\n",
       "      <th></th>\n",
       "    </tr>\n",
       "  </thead>\n",
       "  <tbody>\n",
       "    <tr>\n",
       "      <th>Kevin</th>\n",
       "      <td>1.00</td>\n",
       "      <td>0.67</td>\n",
       "      <td>1.0</td>\n",
       "    </tr>\n",
       "    <tr>\n",
       "      <th>John</th>\n",
       "      <td>0.75</td>\n",
       "      <td>1.00</td>\n",
       "      <td>0.5</td>\n",
       "    </tr>\n",
       "    <tr>\n",
       "      <th>Daniel</th>\n",
       "      <td>0.50</td>\n",
       "      <td>0.33</td>\n",
       "      <td>0.0</td>\n",
       "    </tr>\n",
       "  </tbody>\n",
       "</table>\n",
       "</div>"
      ],
      "text/plain": [
       "          Credit Score Range  Salary Range  Age\n",
       "Customer                                       \n",
       "Kevin                   1.00          0.67  1.0\n",
       "John                    0.75          1.00  0.5\n",
       "Daniel                  0.50          0.33  0.0"
      ]
     },
     "metadata": {},
     "output_type": "display_data"
    }
   ],
   "source": [
    "cust_data2 = {'Customer': ['Kevin', 'John', 'Daniel'],\\\n",
    "              'Credit Score Range': [1, 0.75, 0.50],\\\n",
    "              'Salary Range': [0.67, 1, 0.33],\\\n",
    "              'Age': [1, 0.50, 0]}\n",
    "cust_df2 = pd.DataFrame(data=cust_data2)\n",
    "cust_df2.set_index('Customer', inplace=True)\n",
    "display(cust_df2)\n"
   ]
  },
  {
   "cell_type": "markdown",
   "id": "835641b0",
   "metadata": {},
   "source": [
    "> - computing the Euclidean between Kevin and John:"
   ]
  },
  {
   "cell_type": "code",
   "execution_count": 9,
   "id": "25de57fa",
   "metadata": {},
   "outputs": [
    {
     "name": "stdout",
     "output_type": "stream",
     "text": [
      "Euclidean distance = 0.6491532946846993\n"
     ]
    }
   ],
   "source": [
    "K = cust_df2.loc['Kevin'].to_numpy()\n",
    "J = cust_df2.loc['John'].to_numpy()\n",
    "print(f'Euclidean distance = {euclidean(K, J)}')"
   ]
  },
  {
   "cell_type": "markdown",
   "id": "d1e047f8",
   "metadata": {},
   "source": [
    "__6.3) Computing the similarity values between \"John\" and \"Daniel\":__\n",
    "> - using the same method in 6.3:"
   ]
  },
  {
   "cell_type": "code",
   "execution_count": 10,
   "id": "26de8d75",
   "metadata": {},
   "outputs": [
    {
     "name": "stdout",
     "output_type": "stream",
     "text": [
      "Euclidean distance = 0.8725823743349391\n"
     ]
    }
   ],
   "source": [
    "J = cust_df2.loc['John'].to_numpy()\n",
    "D = cust_df2.loc['Daniel'].to_numpy()\n",
    "print(f'Euclidean distance = {euclidean(J, D)}')"
   ]
  },
  {
   "attachments": {
    "Q7.png": {
     "image/png": "[encoded data removed]"
    }
   },
   "cell_type": "markdown",
   "id": "1e0c0121",
   "metadata": {},
   "source": [
    "***\n",
    "# Question 7:\n",
    "#### Normalizing the following dataset using the min-max normalization method to range \\[0, 1\\]:\n",
    "![Q7.png](attachment:Q7.png)\n",
    "\n",
    "__Formula for min-max normalization:__"
   ]
  },
  {
   "attachments": {
    "Q7_1.png": {
     "image/png": "[encoded data removed]"
    }
   },
   "cell_type": "markdown",
   "id": "9698d858",
   "metadata": {},
   "source": [
    "> ![Q7_1.png](attachment:Q7_1.png)  \n",
    "\n",
    "__converting table to DataFrame:__"
   ]
  },
  {
   "cell_type": "code",
   "execution_count": 11,
   "id": "e0260f17",
   "metadata": {},
   "outputs": [
    {
     "data": {
      "text/html": [
       "<div>\n",
       "<style scoped>\n",
       "    .dataframe tbody tr th:only-of-type {\n",
       "        vertical-align: middle;\n",
       "    }\n",
       "\n",
       "    .dataframe tbody tr th {\n",
       "        vertical-align: top;\n",
       "    }\n",
       "\n",
       "    .dataframe thead th {\n",
       "        text-align: right;\n",
       "    }\n",
       "</style>\n",
       "<table border=\"1\" class=\"dataframe\">\n",
       "  <thead>\n",
       "    <tr style=\"text-align: right;\">\n",
       "      <th></th>\n",
       "      <th>Patient</th>\n",
       "      <th>Height (feet)</th>\n",
       "    </tr>\n",
       "  </thead>\n",
       "  <tbody>\n",
       "    <tr>\n",
       "      <th>0</th>\n",
       "      <td>Tom</td>\n",
       "      <td>5.7</td>\n",
       "    </tr>\n",
       "    <tr>\n",
       "      <th>1</th>\n",
       "      <td>Mat</td>\n",
       "      <td>6.2</td>\n",
       "    </tr>\n",
       "    <tr>\n",
       "      <th>2</th>\n",
       "      <td>Lucy</td>\n",
       "      <td>5.1</td>\n",
       "    </tr>\n",
       "    <tr>\n",
       "      <th>3</th>\n",
       "      <td>Brian</td>\n",
       "      <td>6.4</td>\n",
       "    </tr>\n",
       "  </tbody>\n",
       "</table>\n",
       "</div>"
      ],
      "text/plain": [
       "  Patient  Height (feet)\n",
       "0     Tom            5.7\n",
       "1     Mat            6.2\n",
       "2    Lucy            5.1\n",
       "3   Brian            6.4"
      ]
     },
     "metadata": {},
     "output_type": "display_data"
    }
   ],
   "source": [
    "pat_data = {'Patient': ['Tom', 'Mat', 'Lucy', 'Brian'],\\\n",
    "            'Height (feet)': [5.7, 6.2, 5.1, 6.4]}\n",
    "pat_df = pd.DataFrame(data=pat_data)\n",
    "display(pat_df)"
   ]
  },
  {
   "cell_type": "markdown",
   "id": "43acca7e",
   "metadata": {},
   "source": [
    "__Normalizing Data:__"
   ]
  },
  {
   "cell_type": "code",
   "execution_count": 12,
   "id": "fcf763cf",
   "metadata": {},
   "outputs": [
    {
     "data": {
      "text/html": [
       "<div>\n",
       "<style scoped>\n",
       "    .dataframe tbody tr th:only-of-type {\n",
       "        vertical-align: middle;\n",
       "    }\n",
       "\n",
       "    .dataframe tbody tr th {\n",
       "        vertical-align: top;\n",
       "    }\n",
       "\n",
       "    .dataframe thead th {\n",
       "        text-align: right;\n",
       "    }\n",
       "</style>\n",
       "<table border=\"1\" class=\"dataframe\">\n",
       "  <thead>\n",
       "    <tr style=\"text-align: right;\">\n",
       "      <th></th>\n",
       "      <th>Patient</th>\n",
       "      <th>Height (feet)</th>\n",
       "      <th>Height (norm)</th>\n",
       "    </tr>\n",
       "  </thead>\n",
       "  <tbody>\n",
       "    <tr>\n",
       "      <th>0</th>\n",
       "      <td>Tom</td>\n",
       "      <td>5.7</td>\n",
       "      <td>0.461538</td>\n",
       "    </tr>\n",
       "    <tr>\n",
       "      <th>1</th>\n",
       "      <td>Mat</td>\n",
       "      <td>6.2</td>\n",
       "      <td>0.846154</td>\n",
       "    </tr>\n",
       "    <tr>\n",
       "      <th>2</th>\n",
       "      <td>Lucy</td>\n",
       "      <td>5.1</td>\n",
       "      <td>0.000000</td>\n",
       "    </tr>\n",
       "    <tr>\n",
       "      <th>3</th>\n",
       "      <td>Brian</td>\n",
       "      <td>6.4</td>\n",
       "      <td>1.000000</td>\n",
       "    </tr>\n",
       "  </tbody>\n",
       "</table>\n",
       "</div>"
      ],
      "text/plain": [
       "  Patient  Height (feet)  Height (norm)\n",
       "0     Tom            5.7       0.461538\n",
       "1     Mat            6.2       0.846154\n",
       "2    Lucy            5.1       0.000000\n",
       "3   Brian            6.4       1.000000"
      ]
     },
     "metadata": {},
     "output_type": "display_data"
    }
   ],
   "source": [
    "# get feature to normalize\n",
    "h_arr = pat_df['Height (feet)'].to_numpy()\n",
    "\n",
    "# normalize feature\n",
    "h_arr_norm = minmax_scale(h_arr)\n",
    "\n",
    "# insert into dataframe\n",
    "pat_df['Height (norm)'] = h_arr_norm\n",
    "display(pat_df)\n"
   ]
  }
 ],
 "metadata": {
  "kernelspec": {
   "display_name": "Python 3",
   "language": "python",
   "name": "python3"
  },
  "language_info": {
   "codemirror_mode": {
    "name": "ipython",
    "version": 3
   },
   "file_extension": ".py",
   "mimetype": "text/x-python",
   "name": "python",
   "nbconvert_exporter": "python",
   "pygments_lexer": "ipython3",
   "version": "3.8.8"
  }
 },
 "nbformat": 4,
 "nbformat_minor": 5
}
